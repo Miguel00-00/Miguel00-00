{
  "nbformat": 4,
  "nbformat_minor": 0,
  "metadata": {
    "colab": {
      "provenance": [],
      "authorship_tag": "ABX9TyM2CmsjBENxOUqFTzyO3TwA",
      "include_colab_link": true
    },
    "kernelspec": {
      "name": "python3",
      "display_name": "Python 3"
    },
    "language_info": {
      "name": "python"
    }
  },
  "cells": [
    {
      "cell_type": "markdown",
      "metadata": {
        "id": "view-in-github",
        "colab_type": "text"
      },
      "source": [
        "<a href=\"https://colab.research.google.com/github/Miguel00-00/Miguel00-00/blob/main/Untitled12.ipynb\" target=\"_parent\"><img src=\"https://colab.research.google.com/assets/colab-badge.svg\" alt=\"Open In Colab\"/></a>"
      ]
    },
    {
      "cell_type": "code",
      "execution_count": 12,
      "metadata": {
        "colab": {
          "base_uri": "https://localhost:8080/"
        },
        "id": "ehbKc0U-k-Bi",
        "outputId": "be34dae6-dd17-4607-8e80-8bc6b9f42c82"
      },
      "outputs": [
        {
          "output_type": "stream",
          "name": "stdout",
          "text": [
            "Requirement already satisfied: numpy in /usr/local/lib/python3.10/dist-packages (1.26.4)\n",
            "Requirement already satisfied: pandas in /usr/local/lib/python3.10/dist-packages (2.2.2)\n",
            "Requirement already satisfied: numpy>=1.22.4 in /usr/local/lib/python3.10/dist-packages (from pandas) (1.26.4)\n",
            "Requirement already satisfied: python-dateutil>=2.8.2 in /usr/local/lib/python3.10/dist-packages (from pandas) (2.8.2)\n",
            "Requirement already satisfied: pytz>=2020.1 in /usr/local/lib/python3.10/dist-packages (from pandas) (2024.2)\n",
            "Requirement already satisfied: tzdata>=2022.7 in /usr/local/lib/python3.10/dist-packages (from pandas) (2024.2)\n",
            "Requirement already satisfied: six>=1.5 in /usr/local/lib/python3.10/dist-packages (from python-dateutil>=2.8.2->pandas) (1.16.0)\n",
            "<class 'pandas.core.frame.DataFrame'>\n",
            "RangeIndex: 86512 entries, 0 to 86511\n",
            "Data columns (total 15 columns):\n",
            " #   Column                               Non-Null Count  Dtype  \n",
            "---  ------                               --------------  -----  \n",
            " 0   country                              86512 non-null  object \n",
            " 1   iso_code                             86512 non-null  object \n",
            " 2   date                                 86512 non-null  object \n",
            " 3   total_vaccinations                   43607 non-null  float64\n",
            " 4   people_vaccinated                    41294 non-null  float64\n",
            " 5   people_fully_vaccinated              38802 non-null  float64\n",
            " 6   daily_vaccinations_raw               35362 non-null  float64\n",
            " 7   daily_vaccinations                   86213 non-null  float64\n",
            " 8   total_vaccinations_per_hundred       43607 non-null  float64\n",
            " 9   people_vaccinated_per_hundred        41294 non-null  float64\n",
            " 10  people_fully_vaccinated_per_hundred  38802 non-null  float64\n",
            " 11  daily_vaccinations_per_million       86213 non-null  float64\n",
            " 12  vaccines                             86512 non-null  object \n",
            " 13  source_name                          86512 non-null  object \n",
            " 14  source_website                       86512 non-null  object \n",
            "dtypes: float64(9), object(6)\n",
            "memory usage: 9.9+ MB\n",
            "<class 'pandas.core.frame.DataFrame'>\n",
            "RangeIndex: 86512 entries, 0 to 86511\n",
            "Data columns (total 15 columns):\n",
            " #   Column                               Non-Null Count  Dtype         \n",
            "---  ------                               --------------  -----         \n",
            " 0   country                              86512 non-null  object        \n",
            " 1   iso_code                             86512 non-null  object        \n",
            " 2   date                                 86512 non-null  datetime64[ns]\n",
            " 3   total_vaccinations                   43607 non-null  float64       \n",
            " 4   people_vaccinated                    41294 non-null  float64       \n",
            " 5   people_fully_vaccinated              38802 non-null  float64       \n",
            " 6   daily_vaccinations_raw               35362 non-null  float64       \n",
            " 7   daily_vaccinations                   86213 non-null  float64       \n",
            " 8   total_vaccinations_per_hundred       43607 non-null  float64       \n",
            " 9   people_vaccinated_per_hundred        41294 non-null  float64       \n",
            " 10  people_fully_vaccinated_per_hundred  38802 non-null  float64       \n",
            " 11  daily_vaccinations_per_million       86213 non-null  float64       \n",
            " 12  vaccines                             86512 non-null  object        \n",
            " 13  source_name                          86512 non-null  object        \n",
            " 14  source_website                       86512 non-null  object        \n",
            "dtypes: datetime64[ns](1), float64(9), object(5)\n",
            "memory usage: 9.9+ MB\n"
          ]
        }
      ],
      "source": [
        "!pip install numpy\n",
        "!pip install pandas\n",
        "import numpy as np\n",
        "import pandas as pd\n",
        "a. Extraer la información del archivo.\n",
        "countryvaccinations = pd.read_csv('/content/0.8ddpr74xw650.udno6l076vcountry_vaccinations.csv')\n",
        "\n",
        "b. Mostrar la estructura y tipos de datos de cada columna para identificar qué operaciones puedes realizar con cada una de ellas, asegurándote que las columnas con fechas sean del tipo datetime64.\n",
        "countryvaccinations.info()\n",
        "No esta la columna date en tipo fecha por lo que se convirtio a datetime64\n",
        "countryvaccinations['date']= pd.to_datetime(countryvaccinations['date'])\n",
        "Ahora verificar que sale 'date' con tipo fecha datetime64\n",
        "countryvaccinations.info()\n",
        "\n",
        "c. Determinar la cantidad de vacunas aplicadas de cada compañía (con base en cómo lo reporta cada país en la columna vaccines, en otras palabras, agrupe por vaccines y realice la sumatoria).\n",
        "countryvaccinations[['vaccines','daily_vaccinations']].groupby('vaccines').sum()\n",
        "\n",
        "d. Obtener la cantidad de vacunas aplicadas en todo el mundo.\n",
        "countryvaccinations['daily_vaccinations'].sum()\n",
        "\n",
        "e. Calcular el promedio de vacunas aplicadas por país.\n",
        "countryvaccinations[['country','daily_vaccinations']].groupby('country').mean()\n",
        "\n",
        "f. Determinar la cantidad de vacunas aplicadas el día 29/01/21 en todo el mundo.\n",
        "can290121=countryvaccinations.query('date= \"29/01/21\"')\n",
        "can290121['date'].sum()\n",
        "\n",
        "g. Crear un dataframe nuevo denominado conDiferencias que contenga los datos originales y una columna derivada (diferencias) con las diferencias de aplicación entre las columnas daily_vaccionations y daily_vaccionations_raw.\n",
        "conDiferencias= countryvaccinations['diferencias']= countryvaccinations['daily_vaccinations']-countryvaccinations['daily_vaccinations_raw']\n",
        "\n",
        "h. Obtener el periodo de tiempo entre el registro con fecha más reciente y el registro con fecha más antigua.\n",
        "countryvaccinations['date'].max()-countryvaccinations['date'].min()\n",
        "\n",
        "i. Crear un dataframe nuevo denominado conCantidad que contenga los datos originales y una columna derivada (canVac) con la cantidad de vacunas utilizadas cada día (usar la columna vaccines y separar por el carácter , ).\n",
        "conCantidad= countryvaccinations['canVac']= countryvaccinations['vaccines'].str.split(',').str.len()\n",
        "\n",
        "j. Generar un dataframe denominado antes20 con todos los registros que se hayan realizado antes del 20 de diciembre de 2020.\n",
        "antes20= countryvaccinations.query('date< \"20/12/20\"')\n",
        "\n",
        "k. Obtener un dataframe denominado pfizer con todos los registros donde se haya utilizado la vacuna Pfizer.\n",
        "pfizer= countryvaccinations[countryvaccinations['vaccines'].str.contains('Pfizer/BioNTech')]\n",
        "\n",
        "l. Almacenar los dataframes generados (conDiferencias, conCantidad, antes20 y pfizer) en un archivo de Excel denominado resultadosReto.xlsx, donde cada dataframe ocupe una hoja diferente.\n",
        "with pd.ExcelWriter(\"resultadosReto.xlsx\") as writer:\n",
        "    conDiferencias.to_excel(writer, sheet_name=\"conDiferencia\")\n",
        "    conCantidad.to_excel(writer, sheet_name=\"conCantidad\")\n",
        "    antes20.to_excel(writer, sheet_name=\"antes20\")\n",
        "    pfizer.to_excel(writer, sheet_name=\"pfizer\")\n",
        "\n",
        "\n",
        "\n",
        "\n",
        "\n"
      ]
    }
  ]
}